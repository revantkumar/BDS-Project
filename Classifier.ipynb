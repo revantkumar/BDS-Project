{
 "cells": [
  {
   "cell_type": "code",
   "execution_count": 41,
   "metadata": {
    "collapsed": false
   },
   "outputs": [],
   "source": [
    "%matplotlib inline\n",
    "import numpy as np\n",
    "import collections\n",
    "import os\n",
    "import re\n",
    "import sys\n",
    "import math\n",
    "\n",
    "from nltk.stem.lancaster import LancasterStemmer"
   ]
  },
  {
   "cell_type": "code",
   "execution_count": 42,
   "metadata": {
    "collapsed": false
   },
   "outputs": [],
   "source": [
    "'''\n",
    "Loads the Congressional Speech Data with labels\n",
    "@param root_dir Root directory of the files containing the speech text data\n",
    "Returns [(unigrams, bigrams, outcome=0/1)...]\n",
    "'''\n",
    "\n",
    "def load_raw_data(root_dir, stop_word_file, skip_label=False):\n",
    "    result = []\n",
    "    stop_words = set([])\n",
    "    # Any shorter implies insufficient data\n",
    "    MIN_WORDS = 5\n",
    "    st = LancasterStemmer()\n",
    "\n",
    "    if stop_word_file != None:\n",
    "        with open(stop_word_file) as f:\n",
    "            stop_words = set([line.strip() for line in f.readlines()])\n",
    "    \n",
    "    for file_name in os.listdir(root_dir):\n",
    "        if file_name.endswith(\".txt\"):\n",
    "            file_path = os.path.join(root_dir, file_name)\n",
    "            txt = None\n",
    "            \n",
    "            with open(file_path) as f:\n",
    "                txt = f.read()\n",
    "            \n",
    "            raw_words = []\n",
    "            \n",
    "            # A little cleanup for punctuations and case \n",
    "            for unclean_word in filter(None, re.split(\"[\\]\\[\\)\\(\\\"\\'\\n,\\-\\.!?: ]+\", txt)):\n",
    "                word = str.lower(unclean_word.strip())\n",
    "                # Random codecs can mess this\n",
    "                if len(word) > 2:\n",
    "                    raw_words.append(word)\n",
    "                \n",
    "            # Skip comments that are too short\n",
    "            if len(raw_words) < MIN_WORDS:\n",
    "                continue\n",
    "                \n",
    "            # Unigrams\n",
    "            unigrams = [word for word in raw_words if word not in stop_words]\n",
    "            bigrams = [\"%s %s\" % (raw_words[i], raw_words[i+1]) for i in range(len(raw_words) - 1)]\n",
    "            trigrams = [\"%s %s %s\" % (raw_words[i], raw_words[i+1], raw_words[i+2]) for i in range(len(raw_words) - 2)]\n",
    "            words = unigrams + bigrams + trigrams\n",
    "\n",
    "            yt = 0\n",
    "\n",
    "            # Outcome\n",
    "            # If skip_label is True, all labels are 0.\n",
    "            if not skip_label:\n",
    "                label = file_name.split(\".\")[0][-1]\n",
    "\n",
    "                if label == 'Y':\n",
    "                    yt = 1\n",
    "\n",
    "            result.append((words, yt, file_path))\n",
    "            \n",
    "    return result\n",
    "\n",
    "'''\n",
    "Returns\n",
    "X: [[unigrams + bigrams in review],...]\n",
    "y: outcomes [0,1,1,0...]\n",
    "cache: { \"word\" : [#0s where it appears, #1s where it appears]}\n",
    "'''\n",
    "def load_data(root_dir, stop_word_file=None, extract_names=False, print_every=100):\n",
    "    raw_data = load_raw_data(root_dir, stop_word_file)\n",
    "    X = [[] for rd in raw_data]\n",
    "    y = [0 for rd in raw_data]\n",
    "    names = [(None, None) for rd in raw_data]\n",
    "    file_paths = [None for rd in raw_data]\n",
    "   \n",
    "    cache = {}\n",
    "    n = len(raw_data)\n",
    "    \n",
    "    for i, sample in enumerate(raw_data):\n",
    "        if i%print_every == 0:\n",
    "            print(\"Processing %d/%d\" % (i+1, n))\n",
    "            sys.stdout.flush()\n",
    "            \n",
    "        words, outcome, file_path = sample\n",
    "        \n",
    "        # Just a good approximation.\n",
    "        if extract_names:\n",
    "            names[i] = (words[0], words[1])\n",
    "            words = words[2:]\n",
    "            \n",
    "        X[i] = words\n",
    "        y[i] = outcome\n",
    "        file_paths[i] = file_path\n",
    "        \n",
    "        for word in words:\n",
    "            if word not in cache:\n",
    "                cache[word] = [0,0]\n",
    "            \n",
    "            cache[word][outcome] += 1\n",
    "    \n",
    "    return np.array(X), np.array(y), cache, np.array(names), file_paths"
   ]
  },
  {
   "cell_type": "code",
   "execution_count": 43,
   "metadata": {
    "collapsed": false
   },
   "outputs": [],
   "source": [
    "'''\n",
    "DATA_ROOT=\"/Users/vikesh/development/opt/convote_v1.1/data_stage_three/\"\n",
    "TRAIN_ROOT=os.path.join(DATA_ROOT, \"training_set\")\n",
    "DEV_ROOT=os.path.join(DATA_ROOT, \"development_set\")\n",
    "TEST_ROOT=os.path.join(DATA_ROOT, \"test_set\")\n",
    "STOP_WORDS_FILE=\"stop-word-list.txt\"\n",
    "'''\n",
    "DIR_ROOT=\"\"\n",
    "MODEL_ROOT=os.path.join(DIR_ROOT, \"model\")\n",
    "TRAIN_ROOT=os.path.join(MODEL_ROOT, \"train\")\n",
    "DEV_ROOT=os.path.join(MODEL_ROOT, \"dev\")\n",
    "TEST_ROOT=os.path.join(MODEL_ROOT, \"test\")\n",
    "\n",
    "DATA_ROOT=os.path.join(DIR_ROOT, \"data\")\n",
    "FIRST_NAMES_ROOT=os.path.join(DIR_ROOT, \"names\")\n",
    "LAST_NAMES_FILE=os.path.join(DIR_ROOT, \"names_census\", \"app.txt\")\n",
    "STOP_WORDS_FILE=\"stop-word-list.txt\""
   ]
  },
  {
   "cell_type": "code",
   "execution_count": 44,
   "metadata": {
    "collapsed": false
   },
   "outputs": [
    {
     "name": "stdout",
     "output_type": "stream",
     "text": [
      "Loading data...\n",
      "Processing 1/532\n",
      "Processing 101/532\n",
      "Processing 201/532\n",
      "Processing 301/532\n",
      "Processing 401/532\n",
      "Processing 501/532\n",
      "Processing 1/146\n",
      "Processing 101/146\n",
      "Processing 1/75\n",
      "Loaded all data.\n",
      "Num train samples: 532\n",
      "Num -ive samples: 201\n",
      "Num +ive samples: 331\n",
      "Vocab: 65247\n"
     ]
    }
   ],
   "source": [
    "print(\"Loading data...\")\n",
    "# No names in train/dev/test set\n",
    "X_train, y_train, cache_train, names_null, file_paths_train = load_data(TRAIN_ROOT, STOP_WORDS_FILE)\n",
    "X_dev, y_dev, cache_dev, names_null ,file_paths_dev = load_data(DEV_ROOT, STOP_WORDS_FILE)\n",
    "X_test, y_test, cache_test, names_null, file_paths_test = load_data(TEST_ROOT, STOP_WORDS_FILE)\n",
    "print(\"Loaded all data.\")\n",
    "\n",
    "assert len(X_train) == len(y_train)\n",
    "print(\"Num train samples: %d\" % len(X_train))\n",
    "print(\"Num -ive samples: %d\" % np.sum(y_train==0))\n",
    "print(\"Num +ive samples: %d\" % np.sum(y_train==1))\n",
    "print(\"Vocab: %d\" % len(cache_train))"
   ]
  },
  {
   "cell_type": "code",
   "execution_count": 611,
   "metadata": {
    "collapsed": false
   },
   "outputs": [],
   "source": []
  },
  {
   "cell_type": "code",
   "execution_count": 45,
   "metadata": {
    "collapsed": false
   },
   "outputs": [],
   "source": [
    "def naive_bayes(X, y, cache):\n",
    "    V = len(cache)\n",
    "    K=1.0\n",
    "    cnts = [np.sum(y==0), np.sum(y==1)]\n",
    "    \n",
    "    P = collections.defaultdict(lambda  : [K/(cnts[0] + K*V), K/(cnts[1] + K*V)])\n",
    "    Pc = [cnts[0]/float(len(y)), cnts[1]/float(len(y))]\n",
    "    \n",
    "    for word, counts in cache.iteritems():\n",
    "        for i, count in enumerate(counts):\n",
    "            # With laplace 1 smoothing\n",
    "            P[word][i] = float(count + K) / (cnts[i] + K*V)\n",
    "            \n",
    "    return P, Pc\n",
    "\n",
    "def evaluate(x, P, Pc):\n",
    "    lnps = [0,0]\n",
    "    \n",
    "    for i in range(0, 2):\n",
    "        lnps[i] = math.log(Pc[i]) + np.sum(np.log([P[word][i] for word in x]))\n",
    "    \n",
    "    return np.argmax(lnps)"
   ]
  },
  {
   "cell_type": "code",
   "execution_count": 46,
   "metadata": {
    "collapsed": false
   },
   "outputs": [],
   "source": [
    "P, Pc = naive_bayes(X_train, y_train, cache_train)"
   ]
  },
  {
   "cell_type": "code",
   "execution_count": 47,
   "metadata": {
    "collapsed": true
   },
   "outputs": [],
   "source": [
    "def test(X, P, Pc):\n",
    "    # Compute dev accuracy\n",
    "    y_eval = []\n",
    "\n",
    "    for x_eval in X:\n",
    "        y_eval.append(evaluate(x_eval, P, Pc))\n",
    "\n",
    "    return np.array(y_eval)\n",
    "\n",
    "# Fill the cache based on eval\n",
    "def backfill(X, y):\n",
    "    cache = collections.defaultdict(lambda : [0,0])\n",
    "    for i, x in enumerate(X):\n",
    "        for word in x:\n",
    "            cache[word][y[i]] += 1\n",
    "            \n",
    "    return cache"
   ]
  },
  {
   "cell_type": "code",
   "execution_count": 48,
   "metadata": {
    "collapsed": false
   },
   "outputs": [
    {
     "name": "stdout",
     "output_type": "stream",
     "text": [
      "Train set accuracy: 1.000000\n",
      "Dev set accuracy: 0.924658\n",
      "Test set accuracy: 0.906667\n"
     ]
    }
   ],
   "source": [
    "# Compute train accuracy\n",
    "print(\"Train set accuracy: %f\" % np.mean(test(X_train, P, Pc)==y_train))\n",
    "# Compute dev accuracy\n",
    "print(\"Dev set accuracy: %f\" % np.mean(test(X_dev, P, Pc)==y_dev))\n",
    "# Compute test accuracy\n",
    "print(\"Test set accuracy: %f\" % np.mean(test(X_test, P, Pc)==y_test))"
   ]
  },
  {
   "cell_type": "code",
   "execution_count": 49,
   "metadata": {
    "collapsed": false
   },
   "outputs": [
    {
     "name": "stdout",
     "output_type": "stream",
     "text": [
      "Processing 1/75\n",
      "Loaded real data. Total=75\n"
     ]
    }
   ],
   "source": [
    "X_data, y_data, cache_data, names_data, file_paths_data = load_data(DATA_ROOT, STOP_WORDS_FILE, extract_names=True, print_every=1000)\n",
    "assert(len(X_data) == len(y_data))\n",
    "print(\"Loaded real data. Total=%d\" % len(y_data))"
   ]
  },
  {
   "cell_type": "code",
   "execution_count": 50,
   "metadata": {
    "collapsed": true
   },
   "outputs": [],
   "source": [
    "# This is the real y_data\n",
    "y_eval = test(X_data, P, Pc)\n",
    "# Backfill the cache to have proper counts\n",
    "cache_data = backfill(X_data, y_eval)"
   ]
  },
  {
   "cell_type": "code",
   "execution_count": 51,
   "metadata": {
    "collapsed": true
   },
   "outputs": [],
   "source": [
    "## Scatch space\n",
    "def toFile(x):\n",
    "    tmp = \"/tmp/data.txt\"\n",
    "    with open(tmp, \"w\") as f:\n",
    "        f.writelines(x)\n",
    "            \n",
    "    print tmp"
   ]
  },
  {
   "cell_type": "code",
   "execution_count": 52,
   "metadata": {
    "collapsed": false
   },
   "outputs": [],
   "source": [
    "# Load the US names database\n",
    "# Returns the cache of name to its occurence in the DB\n",
    "def load_first_names(names_root, start_year=None, end_year=None):\n",
    "    cache = collections.defaultdict(int)\n",
    "    \n",
    "    for file_name in os.listdir(names_root):\n",
    "        if file_name.endswith(\".txt\"):\n",
    "            file_path = os.path.join(names_root, file_name)\n",
    "            year = int(file_name.split(\".\")[0][-4:])\n",
    "            \n",
    "            if start_year != None and year < start_year:\n",
    "                continue\n",
    "            if end_year != None and year > end_year:\n",
    "                continue\n",
    "                \n",
    "            names = []\n",
    "            \n",
    "            with open(file_path) as f:\n",
    "                for line in f.readlines():\n",
    "                    name, sex, occ_cnt = line.strip().split(\",\")\n",
    "                    cache[str.lower(name)] += long(occ_cnt)\n",
    "            \n",
    "    \n",
    "    return cache\n",
    "\n",
    "def load_last_names(names_file):\n",
    "    cache = collections.defaultdict(int)\n",
    "    \n",
    "    with open(names_file, \"r\") as f:\n",
    "        for line in f.readlines():\n",
    "            if not line.startswith(\"#\"):\n",
    "                data = line.strip().split()\n",
    "                cache[str.lower(data[0])] = long(data[2])\n",
    "            \n",
    "    return cache"
   ]
  },
  {
   "cell_type": "code",
   "execution_count": 53,
   "metadata": {
    "collapsed": false
   },
   "outputs": [
    {
     "name": "stdout",
     "output_type": "stream",
     "text": [
      "Loaded 93837 first names\n",
      "Loaded 151671 last names\n"
     ]
    }
   ],
   "source": [
    "# Load data necessary to compute stats\n",
    "first_name_cache = load_first_names(FIRST_NAMES_ROOT, start_year=1900)\n",
    "last_name_cache = load_last_names(LAST_NAMES_FILE)\n",
    "print(\"Loaded %s first names\" % len(first_name_cache))\n",
    "print(\"Loaded %s last names\" % len(last_name_cache))"
   ]
  },
  {
   "cell_type": "code",
   "execution_count": 54,
   "metadata": {
    "collapsed": false
   },
   "outputs": [
    {
     "name": "stdout",
     "output_type": "stream",
     "text": [
      "Number of YES=54, NO=21\n",
      "Percentage of YES=0.720000, NO=0.280000\n"
     ]
    }
   ],
   "source": [
    "# Stats: Percentage of Yays and Nays\n",
    "cnt_yes = np.sum(y_eval == 1)\n",
    "cnt_no = np.sum(y_eval == 0)\n",
    "\n",
    "print(\"Number of YES=%d, NO=%d\" % (cnt_yes, cnt_no))\n",
    "print(\"Percentage of YES=%f, NO=%f\" % (float(cnt_yes)/len(y_eval), float(cnt_no)/len(y_eval)))"
   ]
  },
  {
   "cell_type": "code",
   "execution_count": 55,
   "metadata": {
    "collapsed": true
   },
   "outputs": [],
   "source": [
    "# Source: http://www.bloomberg.com/visual-data/best-and-worst//most-common-in-china-surnames \n",
    "with open(os.path.join(MODEL_ROOT, \"chinese_names.txt\"), \"r\") as f:\n",
    "    TOP_ASIAN_NAMES = set([str.lower(line.strip()) for line in f.readlines()])\n",
    "    \n",
    "# Source: Wikipedia, and manually eyeballing the data\n",
    "with open(os.path.join(MODEL_ROOT, \"indian_names.txt\"), \"r\")  as f:\n",
    "    TOP_INDIAN_NAMES = set([str.lower(line.strip()) for line in f.readlines()])"
   ]
  },
  {
   "cell_type": "code",
   "execution_count": 56,
   "metadata": {
    "collapsed": false
   },
   "outputs": [],
   "source": [
    "# Stats: How many names (approximately) are from US citizens/residents\n",
    "def get_amr(names, first_name_cache, last_name_cache, percentile, exclude_intl_names=True):\n",
    "    min_occ_first = np.percentile([occ_cnt for name, occ_cnt in first_name_cache.iteritems()], percentile)\n",
    "    min_occ_last = np.percentile([occ_cnt for name, occ_cnt in last_name_cache.iteritems()], percentile)\n",
    "    \n",
    "    amr = np.zeros(len(names))\n",
    "    \n",
    "    for i, name in enumerate(names):\n",
    "        # This is a good approximation\n",
    "        try:\n",
    "            first_name, last_name = name\n",
    "            # Probability of US name\n",
    "            is_name_us = (first_name_cache[first_name] > min_occ_first and last_name_cache[last_name] > min_occ_last)\n",
    "            is_name_not_intl = last_name not in TOP_ASIAN_NAMES and last_name not in TOP_INDIAN_NAMES\n",
    "            amr[i] = is_name_us and (not exclude_intl_names or is_name_not_intl)\n",
    "        except:\n",
    "            print(\"WARNING: Bad data. Skipping.\")\n",
    "            \n",
    "    return amr"
   ]
  },
  {
   "cell_type": "code",
   "execution_count": 57,
   "metadata": {
    "collapsed": false
   },
   "outputs": [
    {
     "name": "stdout",
     "output_type": "stream",
     "text": [
      "# Excluding intl names: False\n",
      "# Percentile\tUS ratio\tUS among +ve\tUS among -ve\t+ve among US\t-ve among US\n",
      "60.000\t0.000\t0.000\t0.000\tnan\tnan\n",
      "75.000\t0.000\t0.000\t0.000\tnan\tnan\n",
      "80.000\t0.000\t0.000\t0.000\tnan\tnan\n",
      "85.000\t0.000\t0.000\t0.000\tnan\tnan\n",
      "88.000\t0.000\t0.000\t0.000\tnan\tnan\n",
      "90.000\t0.000\t0.000\t0.000\tnan\tnan\n",
      "91.000\t0.000\t0.000\t0.000\tnan\tnan\n",
      "92.000\t0.000\t0.000\t0.000\tnan\tnan\n",
      "93.000\t0.000\t0.000\t0.000\tnan\tnan\n",
      "94.000\t0.000\t0.000\t0.000\tnan\tnan\n",
      "95.000\t0.000\t0.000\t0.000\tnan\tnan\n",
      "96.000\t0.000\t0.000\t0.000\tnan\tnan\n",
      "97.000\t0.000\t0.000\t0.000\tnan\tnan\n",
      "98.000\t0.000\t0.000\t0.000\tnan\tnan\n",
      "99.000\t0.000\t0.000\t0.000\tnan\tnan\n"
     ]
    },
    {
     "name": "stderr",
     "output_type": "stream",
     "text": [
      "/Library/Python/2.7/site-packages/ipykernel/__main__.py:27: RuntimeWarning: invalid value encountered in divide\n",
      "/Library/Python/2.7/site-packages/ipykernel/__main__.py:28: RuntimeWarning: invalid value encountered in divide\n"
     ]
    },
    {
     "data": {
      "image/png": "[encoded data removed]",
      "text/plain": [
       "<matplotlib.figure.Figure at 0x10f71ddd0>"
      ]
     },
     "metadata": {},
     "output_type": "display_data"
    },
    {
     "name": "stdout",
     "output_type": "stream",
     "text": [
      "# Excluding intl names: True\n",
      "# Percentile\tUS ratio\tUS among +ve\tUS among -ve\t+ve among US\t-ve among US\n",
      "60.000\t0.000\t0.000\t0.000\tnan\tnan\n",
      "75.000\t0.000\t0.000\t0.000\tnan\tnan\n",
      "80.000\t0.000\t0.000\t0.000\tnan\tnan\n",
      "85.000\t0.000\t0.000\t0.000\tnan\tnan\n",
      "88.000\t0.000\t0.000\t0.000\tnan\tnan\n",
      "90.000\t0.000\t0.000\t0.000\tnan\tnan\n",
      "91.000\t0.000\t0.000\t0.000\tnan\tnan\n",
      "92.000\t0.000\t0.000\t0.000\tnan\tnan\n",
      "93.000\t0.000\t0.000\t0.000\tnan\tnan\n",
      "94.000\t0.000\t0.000\t0.000\tnan\tnan\n",
      "95.000\t0.000\t0.000\t0.000\tnan\tnan\n",
      "96.000\t0.000\t0.000\t0.000\tnan\tnan\n",
      "97.000\t0.000\t0.000\t0.000\tnan\tnan\n",
      "98.000\t0.000\t0.000\t0.000\tnan\tnan\n",
      "99.000\t0.000\t0.000\t0.000\tnan\tnan\n"
     ]
    },
    {
     "data": {
      "image/png": "[encoded data removed]",
      "text/plain": [
       "<matplotlib.figure.Figure at 0x10f746490>"
      ]
     },
     "metadata": {},
     "output_type": "display_data"
    }
   ],
   "source": [
    "import matplotlib.pyplot as plt\n",
    "\n",
    "PERCENTILES = [60, 75, 80, 85, 88, 90, 91, 92, 93, 94, 95, 96, 97, 98, 99]\n",
    "\n",
    "for exclude_intl_names in [False, True]:\n",
    "    print(\"# Excluding intl names: {}\".format(exclude_intl_names))\n",
    "    print(\"# Percentile\\tUS ratio\\tUS among +ve\\tUS among -ve\\t+ve among US\\t-ve among US\")\n",
    "    plt_percentiles = []\n",
    "    plt_US_pos = []\n",
    "    plt_US_neg = []\n",
    "    plt_pos_US = []\n",
    "    plt_neg_US = []\n",
    "\n",
    "    for percentile in PERCENTILES:\n",
    "        amr = get_amr(names_data, first_name_cache, last_name_cache, percentile, exclude_intl_names)\n",
    "\n",
    "        with open(\"results/perc.%f.txt\" % percentile, \"w\") as f:\n",
    "            for i, name in enumerate(names_data):\n",
    "                if amr[i] == 1:\n",
    "                    f.write(str(amr[i]) + \", \" + str(names_data[i]) + \", VOTE=\" + str(y_eval[i]) + \"\\n\")\n",
    "                    f.write(\" \".join(X_data[i]) + \"\\n\")\n",
    "                    f.write(\"*******\\n\")\n",
    "\n",
    "        plt_percentiles.append(percentile)\n",
    "        plt_US_pos.append(np.sum(y_eval[amr==1])/float(np.sum(y_eval==1)))\n",
    "        plt_US_neg.append(np.sum((1-y_eval)[amr==1])/float(np.sum(1-y_eval)))\n",
    "        plt_pos_US.append(np.sum(y_eval[amr==1])/float(np.sum(amr)))\n",
    "        plt_neg_US.append(np.sum((1-y_eval)[amr==1])/float(np.sum(amr==1)))\n",
    "\n",
    "        print(\"{0:0.3f}\\t{1:0.3f}\\t{2:0.3f}\\t{3:0.3f}\\t{4:0.3f}\\t{5:0.3f}\".format(\n",
    "                percentile,\n",
    "                np.sum(amr==1)/float(len(y_eval)),\n",
    "                plt_US_pos[-1],\n",
    "                plt_US_neg[-1],\n",
    "                plt_pos_US[-1],\n",
    "                plt_neg_US[-1],\n",
    "            )\n",
    "         )\n",
    "\n",
    "    plt.xlabel(\"Percentile\")\n",
    "    plt.ylabel(\"Values\")\n",
    "    plt.plot(np.array(plt_percentiles), np.array(plt_US_pos), label=\"US among positives\")\n",
    "    plt.plot(np.array(plt_percentiles), np.array(plt_US_neg), label=\"US among negatives\")\n",
    "    plt.plot(np.array(plt_percentiles), np.array(plt_pos_US), label=\"Postitives among US\")\n",
    "    plt.plot(np.array(plt_percentiles), np.array(plt_neg_US), label=\"Negatives among US\")\n",
    "\n",
    "    plt.legend(loc='center left', bbox_to_anchor=(1, .5))\n",
    "    plt.show()"
   ]
  },
  {
   "cell_type": "code",
   "execution_count": 29,
   "metadata": {
    "collapsed": false
   },
   "outputs": [],
   "source": [
    "min_first = np.percentile([occ for name, occ in first_name_cache.iteritems()], percentile)\n",
    "min_last = np.percentile([occ for name, occ in last_name_cache.iteritems()], percentile)\n",
    "\n",
    "with open(\"results/neg.not.us.txt\", \"w\") as f:\n",
    "    for i, name in enumerate(names_data):\n",
    "        if amr[i] == 0 and y_eval[i] == 0:\n",
    "            first_name, last_name = name\n",
    "            f.write(\"NAME=\" + str(name) + \", SCORE=%s/%s, %s/%s\" % (first_name_cache[first_name], min_first, last_name_cache[last_name], min_last))\n",
    "            f.write(\"\\n\" + \" \".join(X_data[i]))\n",
    "            f.write(\"\\n\")\n",
    "            f.write(\"*******\\n\")"
   ]
  },
  {
   "cell_type": "code",
   "execution_count": 30,
   "metadata": {
    "collapsed": false
   },
   "outputs": [],
   "source": [
    "min_first = np.percentile([occ for name, occ in first_name_cache.iteritems()], percentile)\n",
    "min_last = np.percentile([occ for name, occ in last_name_cache.iteritems()], percentile)\n",
    "\n",
    "with open(\"results/pos.us.txt\", \"w\") as f:\n",
    "    for i, name in enumerate(names_data):\n",
    "        if amr[i] == 1 and y_eval[i] == 1:\n",
    "            first_name, last_name = name\n",
    "            f.write(\"NAME=\" + str(name) + \", SCORE=%s/%s, %s/%s\" % (first_name_cache[first_name], min_first, last_name_cache[last_name], min_last))\n",
    "            f.write(\"\\n\" + \" \".join(X_data[i]))\n",
    "            f.write(\"\\n\")\n",
    "            f.write(\"*******\\n\")"
   ]
  },
  {
   "cell_type": "code",
   "execution_count": 32,
   "metadata": {
    "collapsed": true
   },
   "outputs": [],
   "source": [
    "# Stats: Most common words\n",
    "def get_unigrams(arr):\n",
    "    return [word for word in arr if \" \" not in word]\n",
    "\n",
    "# cond is a np array of truth values == len(y)\n",
    "def get_word_freq(X, cond):\n",
    "    freqs_cache = collections.defaultdict(int)\n",
    "    \n",
    "    for x in X[cond]:\n",
    "        for unigram in get_unigrams(x):\n",
    "            freqs_cache[unigram] += 1\n",
    "            \n",
    "    return sorted([(word, count) for word, count in freqs_cache.iteritems()], reverse=True, key=lambda x: x[1])\n",
    "\n",
    "# Get the rank (index) of word in the sorted freqs array\n",
    "def get_ranks(freqs):\n",
    "    return {pair[0]:i for i, pair in enumerate(freqs)}\n",
    "\n",
    "# Write the file for creating word clouds\n",
    "def write_cloud(freqs_k, file_path):\n",
    "    fstr = \"\"\n",
    "    for tup in freqs_k:\n",
    "        word, freq = tup\n",
    "        # print word, freq\n",
    "        for i in range(freq):\n",
    "            fstr += \"%s \" % word\n",
    "\n",
    "    with open(file_path, \"w\") as f:\n",
    "        f.write(fstr)\n",
    "    \n",
    "    print(\"Written to file: {}\".format(file_path))"
   ]
  },
  {
   "cell_type": "code",
   "execution_count": 33,
   "metadata": {
    "collapsed": false
   },
   "outputs": [],
   "source": [
    "# Most common words by americans\n",
    "TOP_K = 50\n",
    "    \n",
    "amr = get_amr(names_data, first_name_cache, last_name_cache, percentile=99)\n",
    "# switch y_eval\n",
    "freqs = get_word_freq(X_data, (y_eval==0) * (amr==1))\n",
    "\n",
    "for tup in freqs[:TOP_K]:\n",
    "    word, freq = tup\n",
    "    # print word, freq"
   ]
  },
  {
   "cell_type": "code",
   "execution_count": 34,
   "metadata": {
    "collapsed": false
   },
   "outputs": [
    {
     "name": "stdout",
     "output_type": "stream",
     "text": [
      "Written to file: results/cloud.neg.txt\n",
      "Written to file: results/cloud.pos.txt\n"
     ]
    }
   ],
   "source": [
    "# Most common words in general\n",
    "amr = get_amr(names_data, first_name_cache, last_name_cache, percentile=99)\n",
    "suffixes = [\"neg\", \"pos\"]\n",
    "TOP_K = 50\n",
    "\n",
    "for label in range(0, 2):\n",
    "    # switch y_eval\n",
    "    freqs = get_word_freq(X_data, y_eval==label)\n",
    "    fstr = \"\"\n",
    "\n",
    "    with open(\"results/words.{}.txt\".format(suffixes[label]), \"w\") as f:\n",
    "        total = np.sum([pair[1] for pair in freqs])\n",
    "        f.writelines(map(lambda x: \"%s\\t%d\\t%f\\n\" % (x[0], x[1], (x[1]*100)/float(total)), freqs))\n",
    "        \n",
    "    write_cloud(freqs[:TOP_K], \"results/cloud.{}.txt\".format(suffixes[label]))"
   ]
  },
  {
   "cell_type": "code",
   "execution_count": 35,
   "metadata": {
    "collapsed": false
   },
   "outputs": [
    {
     "ename": "KeyError",
     "evalue": "'extension'",
     "output_type": "error",
     "traceback": [
      "\u001b[0;31m---------------------------------------------------------------------------\u001b[0m",
      "\u001b[0;31mKeyError\u001b[0m                                  Traceback (most recent call last)",
      "\u001b[0;32m<ipython-input-35-98ea38618060>\u001b[0m in \u001b[0;36m<module>\u001b[0;34m()\u001b[0m\n\u001b[1;32m     24\u001b[0m \u001b[0;34m\u001b[0m\u001b[0m\n\u001b[1;32m     25\u001b[0m     \u001b[0mnp_rank_pos\u001b[0m\u001b[0;34m.\u001b[0m\u001b[0mappend\u001b[0m\u001b[0;34m(\u001b[0m\u001b[0mranks_pos\u001b[0m\u001b[0;34m[\u001b[0m\u001b[0mword\u001b[0m\u001b[0;34m]\u001b[0m\u001b[0;34m)\u001b[0m\u001b[0;34m\u001b[0m\u001b[0m\n\u001b[0;32m---> 26\u001b[0;31m     \u001b[0mnp_rank_neg\u001b[0m\u001b[0;34m.\u001b[0m\u001b[0mappend\u001b[0m\u001b[0;34m(\u001b[0m\u001b[0mranks_neg\u001b[0m\u001b[0;34m[\u001b[0m\u001b[0mword\u001b[0m\u001b[0;34m]\u001b[0m\u001b[0;34m)\u001b[0m\u001b[0;34m\u001b[0m\u001b[0m\n\u001b[0m\u001b[1;32m     27\u001b[0m \u001b[0;34m\u001b[0m\u001b[0m\n\u001b[1;32m     28\u001b[0m \u001b[0;31m# Plot this.\u001b[0m\u001b[0;34m\u001b[0m\u001b[0;34m\u001b[0m\u001b[0m\n",
      "\u001b[0;31mKeyError\u001b[0m: 'extension'"
     ]
    }
   ],
   "source": [
    "# Bar chart for word usage\n",
    "freqs = get_word_freq(X_data, y_eval < 2)\n",
    "freqs_pos = get_word_freq(X_data, y_eval == 1)\n",
    "ranks_pos = get_ranks(freqs_pos)\n",
    "\n",
    "freqs_neg = get_word_freq(X_data, y_eval == 0)\n",
    "ranks_neg = get_ranks(freqs_neg)\n",
    "\n",
    "total_neg = np.sum([cnt for word, cnt in freqs_neg])\n",
    "total_pos = np.sum([cnt for word, cnt in freqs_pos])\n",
    "\n",
    "TOP_K = 20\n",
    "np_words = []\n",
    "np_freq_pos = []\n",
    "np_freq_neg = []\n",
    "np_rank_pos = []\n",
    "np_rank_neg = []\n",
    "\n",
    "for pair in freqs[:TOP_K]:\n",
    "    word, count = pair\n",
    "    np_words.append(word)\n",
    "    np_freq_neg.append((cache_data[word][0]*100)/float(total_neg))\n",
    "    np_freq_pos.append((cache_data[word][1]*100)/float(total_pos))\n",
    "    \n",
    "    np_rank_pos.append(ranks_pos[word])\n",
    "    np_rank_neg.append(ranks_neg[word])\n",
    "    \n",
    "# Plot this.\n",
    "index = np.arange(0, TOP_K*2, 2)\n",
    "bar_width = 0.55\n",
    "\n",
    "plt.figure(figsize=(18,10))\n",
    "\n",
    "rects1 = plt.bar(index, np.array(np_freq_neg), bar_width,\n",
    "                 color='r',\n",
    "                 label='% occurence in -ve comments')\n",
    "\n",
    "rects2 = plt.bar(index + bar_width, np.array(np_freq_pos), bar_width,\n",
    "                 color='b',\n",
    "                 label='% occurence in +ve comments')\n",
    "\n",
    "\n",
    "plt.xticks(index + bar_width, np_words)\n",
    "\n",
    "plt.xlabel('Word')\n",
    "plt.ylabel('Occurence')\n",
    "plt.title('Word occurences in +ve and -ve reviews')\n",
    "plt.legend()\n",
    "\n",
    "def autolabel(rects, ranks):\n",
    "    # attach some text labels\n",
    "    for i, rect in enumerate(rects):\n",
    "        word, count = freqs[i]\n",
    "        height = rect.get_height()\n",
    "        plt.text(rect.get_x() + rect.get_width()/2., 1.05*height,\n",
    "                '%d' % (ranks[word] + 1),\n",
    "                ha='center', va='bottom')\n",
    "\n",
    "autolabel(rects1, ranks_neg)\n",
    "autolabel(rects2, ranks_pos)\n",
    "\n",
    "# plt.tight_layout()\n",
    "plt.show()"
   ]
  },
  {
   "cell_type": "code",
   "execution_count": 37,
   "metadata": {
    "collapsed": false
   },
   "outputs": [
    {
     "data": {
      "image/png": "[encoded data removed]",
      "text/plain": [
       "<matplotlib.figure.Figure at 0x10f2adfd0>"
      ]
     },
     "metadata": {},
     "output_type": "display_data"
    }
   ],
   "source": [
    "# Confirm the Zipf's law\n",
    "freqs = get_word_freq(X_data, y_eval < 2)\n",
    "np_occ = np.array([cnt for word, cnt in freqs])\n",
    "np_rank = np.array([i for i, pair in enumerate(freqs)])\n",
    "\n",
    "plt.figure(figsize=(12, 8))\n",
    "plt.yscale('log')\n",
    "plt.xscale('log')\n",
    "plt.xlabel(\"Rank\")\n",
    "plt.ylabel(\"Frequency of occurence\")\n",
    "plt.plot(np_rank, np_occ)\n",
    "plt.show()"
   ]
  },
  {
   "cell_type": "code",
   "execution_count": 38,
   "metadata": {
    "collapsed": false
   },
   "outputs": [
    {
     "name": "stdout",
     "output_type": "stream",
     "text": [
      "available 5\n",
      "paying 5\n",
      "ruling 4\n",
      "wages 4\n",
      "administration 4\n",
      "instead 4\n",
      "taxes 3\n",
      "optional 3\n",
      "received 3\n",
      "given 3\n",
      "families 3\n",
      "department 3\n",
      "president 3\n",
      "visas 3\n",
      "laws 3\n",
      "9/11 2\n",
      "violation 2\n",
      "children 2\n",
      "adding 2\n",
      "avoid 2\n",
      "pledge 2\n",
      "favor 2\n",
      "disney 2\n",
      "extend 2\n",
      "incentives 2\n",
      "payroll 2\n",
      "little 2\n",
      "reported 2\n",
      "buy 2\n",
      "allows 2\n",
      "broken 2\n",
      "65% 2\n",
      "gao 2\n",
      "illegals 2\n",
      "incentive 2\n",
      "congress 2\n",
      "bonus 2\n",
      "left 2\n",
      "limited 1\n",
      "facto 1\n",
      "fica 1\n",
      "hands 1\n",
      "lack 1\n",
      "thomas 1\n",
      "actions 1\n",
      "trade 1\n",
      "disabled 1\n",
      "liberty 1\n",
      "committee 1\n",
      "facts 1\n",
      "Written to file: results/cloud.exc.neg.txt\n"
     ]
    }
   ],
   "source": [
    "# Stats: Words in -ve reviews that are not in +ve reviews\n",
    "TOP_K = 50\n",
    "\n",
    "freqs_pos = get_word_freq(X_data, y_eval == 1)\n",
    "freqs_neg = get_word_freq(X_data, y_eval == 0)\n",
    "\n",
    "words_pos = set([word for word, cnt in freqs_pos])\n",
    "words_neg = set([word for word, cnt in freqs_neg])\n",
    "\n",
    "ranks_pos = get_ranks(freqs_pos)\n",
    "ranks_neg = get_ranks(freqs_neg)\n",
    "\n",
    "words_exc_neg = words_neg - words_pos\n",
    "freqs_exc_neg = []\n",
    "\n",
    "for word_exc_neg in words_exc_neg:\n",
    "    freqs_exc_neg.append(freqs_neg[ranks_neg[word_exc_neg]])\n",
    "\n",
    "freqs_exc_neg = sorted(freqs_exc_neg, reverse=True, key=lambda x: x[1])\n",
    "\n",
    "for word_exc, count_exc in freqs_exc_neg[:TOP_K]:\n",
    "    print word_exc, count_exc\n",
    "\n",
    "write_cloud(freqs_exc_neg[:TOP_K], \"results/cloud.exc.neg.txt\")"
   ]
  },
  {
   "cell_type": "code",
   "execution_count": 39,
   "metadata": {
    "collapsed": false
   },
   "outputs": [
    {
     "name": "stdout",
     "output_type": "stream",
     "text": [
      "Percentage of +ve among lost: nan\n"
     ]
    },
    {
     "name": "stderr",
     "output_type": "stream",
     "text": [
      "/Library/Python/2.7/site-packages/ipykernel/__main__.py:11: RuntimeWarning: invalid value encountered in divide\n"
     ]
    }
   ],
   "source": [
    "# Stat: Who did we lose from 60 percentile to 90 percentile and what were their names and comments\n",
    "LOW_PERC = 60\n",
    "HIGH_PERCS = [65, 70, 75, 80, 85, 90, 95, 99]\n",
    "\n",
    "for high_perc in [90]:\n",
    "    low_amr = get_amr(names_data, first_name_cache, last_name_cache, LOW_PERC, exclude_intl_names=True)\n",
    "    high_amr = get_amr(names_data, first_name_cache, last_name_cache, high_perc, exclude_intl_names=True)\n",
    "\n",
    "    lost_idx = (1-high_amr) * low_amr\n",
    "    lost_votes = y_eval[lost_idx == 1]\n",
    "    print(\"Percentage of +ve among lost: {}\".format(np.sum(lost_votes) / float(len(lost_votes))))"
   ]
  },
  {
   "cell_type": "code",
   "execution_count": 40,
   "metadata": {
    "collapsed": false
   },
   "outputs": [
    {
     "name": "stdout",
     "output_type": "stream",
     "text": [
      "LABEL=0\n"
     ]
    },
    {
     "ename": "AssertionError",
     "evalue": "incompatible sizes: argument 'height' must be length 20 or scalar",
     "output_type": "error",
     "traceback": [
      "\u001b[0;31m---------------------------------------------------------------------------\u001b[0m",
      "\u001b[0;31mAssertionError\u001b[0m                            Traceback (most recent call last)",
      "\u001b[0;32m<ipython-input-40-73bc3605de7b>\u001b[0m in \u001b[0;36m<module>\u001b[0;34m()\u001b[0m\n\u001b[1;32m     23\u001b[0m \u001b[0;34m\u001b[0m\u001b[0m\n\u001b[1;32m     24\u001b[0m     rects1 = plt.bar(index, np.array(np_freq), bar_width,\n\u001b[0;32m---> 25\u001b[0;31m                  color='r', label=\"Frequency in %s-labeled comments\" % label)\n\u001b[0m\u001b[1;32m     26\u001b[0m \u001b[0;34m\u001b[0m\u001b[0m\n\u001b[1;32m     27\u001b[0m     \u001b[0mplt\u001b[0m\u001b[0;34m.\u001b[0m\u001b[0mxticks\u001b[0m\u001b[0;34m(\u001b[0m\u001b[0mindex\u001b[0m \u001b[0;34m+\u001b[0m \u001b[0mbar_width\u001b[0m\u001b[0;34m,\u001b[0m \u001b[0mnp_names\u001b[0m\u001b[0;34m)\u001b[0m\u001b[0;34m\u001b[0m\u001b[0m\n",
      "\u001b[0;32m/System/Library/Frameworks/Python.framework/Versions/2.7/Extras/lib/python/matplotlib/pyplot.pyc\u001b[0m in \u001b[0;36mbar\u001b[0;34m(left, height, width, bottom, hold, **kwargs)\u001b[0m\n\u001b[1;32m   2513\u001b[0m         \u001b[0max\u001b[0m\u001b[0;34m.\u001b[0m\u001b[0mhold\u001b[0m\u001b[0;34m(\u001b[0m\u001b[0mhold\u001b[0m\u001b[0;34m)\u001b[0m\u001b[0;34m\u001b[0m\u001b[0m\n\u001b[1;32m   2514\u001b[0m     \u001b[0;32mtry\u001b[0m\u001b[0;34m:\u001b[0m\u001b[0;34m\u001b[0m\u001b[0m\n\u001b[0;32m-> 2515\u001b[0;31m         \u001b[0mret\u001b[0m \u001b[0;34m=\u001b[0m \u001b[0max\u001b[0m\u001b[0;34m.\u001b[0m\u001b[0mbar\u001b[0m\u001b[0;34m(\u001b[0m\u001b[0mleft\u001b[0m\u001b[0;34m,\u001b[0m \u001b[0mheight\u001b[0m\u001b[0;34m,\u001b[0m \u001b[0mwidth\u001b[0m\u001b[0;34m=\u001b[0m\u001b[0mwidth\u001b[0m\u001b[0;34m,\u001b[0m \u001b[0mbottom\u001b[0m\u001b[0;34m=\u001b[0m\u001b[0mbottom\u001b[0m\u001b[0;34m,\u001b[0m \u001b[0;34m**\u001b[0m\u001b[0mkwargs\u001b[0m\u001b[0;34m)\u001b[0m\u001b[0;34m\u001b[0m\u001b[0m\n\u001b[0m\u001b[1;32m   2516\u001b[0m         \u001b[0mdraw_if_interactive\u001b[0m\u001b[0;34m(\u001b[0m\u001b[0;34m)\u001b[0m\u001b[0;34m\u001b[0m\u001b[0m\n\u001b[1;32m   2517\u001b[0m     \u001b[0;32mfinally\u001b[0m\u001b[0;34m:\u001b[0m\u001b[0;34m\u001b[0m\u001b[0m\n",
      "\u001b[0;32m/System/Library/Frameworks/Python.framework/Versions/2.7/Extras/lib/python/matplotlib/axes.pyc\u001b[0m in \u001b[0;36mbar\u001b[0;34m(self, left, height, width, bottom, **kwargs)\u001b[0m\n\u001b[1;32m   4997\u001b[0m         assert len(height) == nbars, (\"incompatible sizes: argument 'height' \"\n\u001b[1;32m   4998\u001b[0m                                       \u001b[0;34m\"must be length %d or scalar\"\u001b[0m \u001b[0;34m%\u001b[0m\u001b[0;34m\u001b[0m\u001b[0m\n\u001b[0;32m-> 4999\u001b[0;31m                                       nbars)\n\u001b[0m\u001b[1;32m   5000\u001b[0m         assert len(width) == nbars, (\"incompatible sizes: argument 'width' \"\n\u001b[1;32m   5001\u001b[0m                                      \u001b[0;34m\"must be length %d or scalar\"\u001b[0m \u001b[0;34m%\u001b[0m\u001b[0;34m\u001b[0m\u001b[0m\n",
      "\u001b[0;31mAssertionError\u001b[0m: incompatible sizes: argument 'height' must be length 20 or scalar"
     ]
    },
    {
     "data": {
      "image/png": "[encoded data removed]",
      "text/plain": [
       "<matplotlib.figure.Figure at 0x1119c5f90>"
      ]
     },
     "metadata": {},
     "output_type": "display_data"
    }
   ],
   "source": [
    "# Stat: Most common names \n",
    "def get_top_names(names, cond):\n",
    "    names = names_data[cond]\n",
    "    last_names_cnt_cache = collections.defaultdict(int)\n",
    "    \n",
    "    for first_name, last_name in names:\n",
    "        last_names_cnt_cache[last_name] += 1\n",
    "        \n",
    "    return sorted([(last_name, float(cnt)/len(names)) for last_name, cnt in last_names_cnt_cache.iteritems()], \n",
    "                  reverse=True, key=lambda x: x[1])\n",
    "\n",
    "labels = [0,1]\n",
    "TOP_K = 20\n",
    "index = np.arange(0, TOP_K*2, 2)\n",
    "\n",
    "for label in labels:\n",
    "    print(\"LABEL=%d\" % label)\n",
    "    names = get_top_names(names_data, y_eval == label)\n",
    "    np_names, np_freq = zip(*names[:TOP_K])\n",
    "    \n",
    "    plt.figure(figsize=(18,10))\n",
    "    bar_width = 0.70\n",
    "    \n",
    "    rects1 = plt.bar(index, np.array(np_freq), bar_width,\n",
    "                 color='r', label=\"Frequency in %s-labeled comments\" % label)\n",
    "                 \n",
    "    plt.xticks(index + bar_width, np_names)\n",
    "    plt.ylabel(\"Frequency of occurence of names\")\n",
    "    plt.legend()\n",
    "    plt.show()"
   ]
  },
  {
   "cell_type": "code",
   "execution_count": 619,
   "metadata": {
    "collapsed": false
   },
   "outputs": [],
   "source": [
    "import dill\n",
    "dill.dump(P, open(\"model/P.p\", \"wb\" ))\n",
    "dill.dump(Pc, open(\"model/Pc.p\", \"wb\" ))"
   ]
  },
  {
   "cell_type": "code",
   "execution_count": null,
   "metadata": {
    "collapsed": true
   },
   "outputs": [],
   "source": []
  }
 ],
 "metadata": {
  "kernelspec": {
   "display_name": "Python 2",
   "language": "python",
   "name": "python2"
  },
  "language_info": {
   "codemirror_mode": {
    "name": "ipython",
    "version": 2
   },
   "file_extension": ".py",
   "mimetype": "text/x-python",
   "name": "python",
   "nbconvert_exporter": "python",
   "pygments_lexer": "ipython2",
   "version": "2.7.10"
  }
 },
 "nbformat": 4,
 "nbformat_minor": 0
}
